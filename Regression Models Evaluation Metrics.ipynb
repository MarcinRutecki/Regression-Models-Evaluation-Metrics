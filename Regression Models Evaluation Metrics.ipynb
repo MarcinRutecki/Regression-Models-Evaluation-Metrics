{
 "cells": [
  {
   "cell_type": "markdown",
   "id": "431b04f6",
   "metadata": {},
   "source": [
    "# Regression Models Evaluation Metrics"
   ]
  },
  {
   "cell_type": "markdown",
   "id": "bdf21b6b",
   "metadata": {},
   "source": [
    "## How to compare Regression Models"
   ]
  },
  {
   "cell_type": "code",
   "execution_count": 4,
   "id": "d538421f",
   "metadata": {},
   "outputs": [
    {
     "data": {
      "text/html": [
       "<img src=\"winner.jpg\" width=\"600\"/>"
      ],
      "text/plain": [
       "<IPython.core.display.Image object>"
      ]
     },
     "execution_count": 4,
     "metadata": {},
     "output_type": "execute_result"
    }
   ],
   "source": [
    "from matplotlib import pyplot as plt\n",
    "import seaborn as sns\n",
    "from IPython.display import Image\n",
    "sns.set(style=\"ticks\", context=\"talk\")\n",
    "plt.style.use(\"dark_background\")\n",
    "Image(url='winner.jpg', width=600)"
   ]
  },
  {
   "cell_type": "markdown",
   "id": "43294258",
   "metadata": {},
   "source": [
    "## Table of Contents\n",
    "\n",
    "* 1. Introduction\n",
    "* 2. Regression Evaluation Metrics\n",
    "    * 2.1 Mean Absolute Error (MAE)\n",
    "    * 2.2 Mean Squared Error (MSE)\n",
    "    * 2.3 Root Mean Squared Error (RMSE)\n",
    "    * 2.4 R-squared (Coefficient of determination)\n",
    "    * 2.5 Adjusted R squared\n",
    "    * 2.6 Cross-validated R2\n",
    "    * 2.7 Regression Evaluation Metrics - Conclusion\n",
    "* 3. Set-up\n",
    "    * 3.1 Import Libraries\n",
    "    * 3.2 Defining function for regression metrics\n",
    "    * 3.3 Data Sets Characteristics\n",
    "    * 3.4 Import Data\n",
    "* 4. Some visualisations\n",
    "    * 4.1 Avocado Prices\n",
    "    * 4.2 Boston House Prices\n",
    "* 5. Data pre-processing\n",
    "    * 5.1 Some transformations\n",
    "    * 5.2 Outlier detection and removal\n",
    "    * 5.3 Train test split\n",
    "    * 5.4 Feature scaling\n",
    "* 6. Comparing different models\n",
    "    * 6.1 Linear Regression\n",
    "    * 6.2 Random Forest\n",
    "    * 6.3 Ridge Regression\n",
    "    * 6.4 XGBoost\n",
    "    * 6.5 Recursive Feature Elimination (RFE)\n",
    "* 7. Final Model Evaluation\n",
    "    * 7.1 Avocado dataset\n",
    "    * 7.2 Boston dataset\n",
    "    * 7.3 Visualizing Model Performance\n",
    "* 8. Bonus: hyperparameters Tuning Using GridSearchCV\n",
    "    * 8.1 Tuned Ridge Regression\n",
    "* 9. Final performance comparison\n",
    "    * 9.1 Avocado data set\n",
    "    * 9.2 Boston data set\n",
    "* 10. Other notebooks\n",
    "* 11. Some referrals"
   ]
  },
  {
   "cell_type": "markdown",
   "id": "5d77e52f",
   "metadata": {},
   "source": [
    "# 1. Introduction"
   ]
  },
  {
   "cell_type": "markdown",
   "id": "5da5f1d1",
   "metadata": {},
   "source": [
    "Performance metrics are vital for supervised machine learning models. To be sure that your model is doing well in its predictions, you need to evaluate the model. Our goal is to identify how well the model performs on new data.\n",
    "\n",
    "There are some evaluation metrics that can help you determine whether the model’s predictions are accurate to a certain level of performance. "
   ]
  },
  {
   "cell_type": "markdown",
   "id": "d0ce1990",
   "metadata": {},
   "source": [
    "# 2. Regression Evaluation Metrics\n",
    "\n",
    "All of these are **loss functions**, because we want to minimize them.\n",
    "\n",
    "## 2.1 Mean Absolute Error (MAE) \n",
    "is the mean of the absolute value of the errors:\n",
    "\n",
    "$$\\frac 1n\\sum_{i=1}^n|y_i-\\hat{y}_i|$$\n",
    "\n",
    "The Mean absolute error represents the average of the absolute difference between the actual and predicted values in the dataset. It measures the average of the residuals in the dataset.\n",
    "\n",
    "## 2.2 Mean Squared Error (MSE) \n",
    "is the mean of the squared errors:\n",
    "\n",
    "$$\\frac 1n\\sum_{i=1}^n(y_i-\\hat{y}_i)^2$$\n",
    "\n",
    "Mean Squared Error represents the average of the squared difference between the original and predicted values in the data set. It measures the variance of the residuals.\n",
    "\n",
    "## 2.3 Root Mean Squared Error (RMSE) \n",
    "is the square root of the mean of the squared errors:\n",
    "\n",
    "$$\\sqrt{\\frac 1n\\sum_{i=1}^n(y_i-\\hat{y}_i)^2}$$\n",
    "\n",
    "RMSE measures the standard deviation of residuals."
   ]
  },
  {
   "cell_type": "markdown",
   "id": "17b4321f",
   "metadata": {},
   "source": [
    "## 2.4 R-squared (Coefficient of determination)"
   ]
  },
  {
   "cell_type": "markdown",
   "id": "33840eb8",
   "metadata": {},
   "source": [
    "1. **SST** (or TSS)\n",
    "\n",
    "The Sum of Squares Total/Total Sum of Squares (SST or TSS) is the squared differences between the observed dependent variable and its mean.\n",
    "\n",
    "2. **SSR** (or RSS)\n",
    "\n",
    "Sum of Squares Regression (SSR or RSS) is the sum of the differences between the predicted value and the mean of the dependent variable.\n",
    "\n",
    "3. **SSE** (or ESS)\n",
    "\n",
    "Sum of Squares Error (SSE or ESS) is the difference between the observed value and the predicted value."
   ]
  },
  {
   "cell_type": "code",
   "execution_count": 2,
   "id": "227b21fe",
   "metadata": {},
   "outputs": [
    {
     "data": {
      "text/html": [
       "<img src=\"sst.png\" width=\"450\"/>"
      ],
      "text/plain": [
       "<IPython.core.display.Image object>"
      ]
     },
     "execution_count": 2,
     "metadata": {},
     "output_type": "execute_result"
    }
   ],
   "source": [
    "Image(url='sst.png', width=450)"
   ]
  },
  {
   "cell_type": "markdown",
   "id": "f81dde1b",
   "metadata": {},
   "source": [
    "The coefficient of determination or R-squared represents the proportion of the variance in the dependent variable which is explained by the linear regression model. When R² is high, it represents that the regression can capture much of variation in observed dependent variables. That’s why we can say the regression model performs well when R² is high.\n",
    "\n",
    "$$R^2 = 1- \\frac {SSR}{SST}$$\n",
    "\n",
    "It is a scale-free score i.e. irrespective of the values being small or large, the value of R square will be less than one. One misconception about regression analysis is that a low R-squared value is always a bad thing. For example, some data sets or fields of study have an inherently greater amount of unexplained variation. In this case, R-squared values are naturally going to be lower. Investigators can make useful conclusions about the data even with a low R-squared value."
   ]
  },
  {
   "cell_type": "markdown",
   "id": "17c702f1",
   "metadata": {},
   "source": [
    "$$R^2=1$$ All the variation in the y values is accounted for by the x values."
   ]
  },
  {
   "cell_type": "code",
   "execution_count": 3,
   "id": "78df5b19",
   "metadata": {},
   "outputs": [
    {
     "data": {
      "text/html": [
       "<img src=\"R2=1.jpeg\" width=\"250\"/>"
      ],
      "text/plain": [
       "<IPython.core.display.Image object>"
      ]
     },
     "execution_count": 3,
     "metadata": {},
     "output_type": "execute_result"
    }
   ],
   "source": [
    "Image(url='R2=1.jpeg', width=250)"
   ]
  },
  {
   "cell_type": "markdown",
   "id": "3e96f40c",
   "metadata": {},
   "source": [
    "$$R^2=0.83$$\n",
    "83 % of the variation in the y values is accounted for by the x values."
   ]
  },
  {
   "cell_type": "code",
   "execution_count": 4,
   "id": "3dc12f1b",
   "metadata": {},
   "outputs": [
    {
     "data": {
      "text/html": [
       "<img src=\"R2=0.8.jpeg\" width=\"250\"/>"
      ],
      "text/plain": [
       "<IPython.core.display.Image object>"
      ]
     },
     "execution_count": 4,
     "metadata": {},
     "output_type": "execute_result"
    }
   ],
   "source": [
    "Image(url='R2=0.8.jpeg', width=250)"
   ]
  },
  {
   "cell_type": "markdown",
   "id": "d44e0075",
   "metadata": {},
   "source": [
    "$$R^2=0$$ None of the variation in the y values is accounted for by the x values."
   ]
  },
  {
   "cell_type": "code",
   "execution_count": 5,
   "id": "5e32296a",
   "metadata": {},
   "outputs": [
    {
     "data": {
      "text/html": [
       "<img src=\"R2=0.jpeg\" width=\"250\"/>"
      ],
      "text/plain": [
       "<IPython.core.display.Image object>"
      ]
     },
     "execution_count": 5,
     "metadata": {},
     "output_type": "execute_result"
    }
   ],
   "source": [
    "Image(url='R2=0.jpeg', width=250)"
   ]
  },
  {
   "cell_type": "markdown",
   "id": "095c1965",
   "metadata": {},
   "source": [
    "## 2.5 Adjusted R squared\n",
    "\n",
    "$$R^2_{adj.} = 1 - (1-R^2)*\\frac{n-1}{n-p-1}$$\n",
    "\n",
    "**Adjusted R squared** is a modified version of R square, and it is adjusted for the number of independent variables in the model, and it will always be less than or equal to R².In the formula below n is the number of observations in the data and k is the number of the independent variables in the data."
   ]
  },
  {
   "cell_type": "markdown",
   "id": "f257c4b8",
   "metadata": {},
   "source": [
    "## 2.6 Cross-validated R2\n",
    "\n",
    "Cross-validation is a resampling procedure used to evaluate machine learning models on a limited data sample. It is a popular method because it is simple to understand and because it generally results in a less biased or less optimistic estimate of the model skill than other methods, such as a simple train/test split.\n",
    "\n",
    "The procedure has a single parameter called k that refers to the number of groups that a given data sample is to be split into. As such, the procedure is often called k-fold cross-validation. When a specific value for k is chosen, it may be used in place of k in the reference to the model, such as k=10 becoming 10-fold cross-validation.\n",
    "\n",
    "**Cross-validated R2** is a median value or R2 taken from cross-validation procedure."
   ]
  },
  {
   "cell_type": "code",
   "execution_count": 6,
   "id": "a2728710",
   "metadata": {},
   "outputs": [
    {
     "data": {
      "text/html": [
       "<img src=\"CV.png\" width=\"550\"/>"
      ],
      "text/plain": [
       "<IPython.core.display.Image object>"
      ]
     },
     "execution_count": 6,
     "metadata": {},
     "output_type": "execute_result"
    }
   ],
   "source": [
    "Image(url='CV.png', width=550)"
   ]
  },
  {
   "cell_type": "markdown",
   "id": "2131d3e6",
   "metadata": {},
   "source": [
    "## 2.7 Regression Evaluation Metrics - Conclusion\n",
    "\n",
    "Both RMSE and R-Squared quantifies how well a linear regression model fits a dataset. When assessing how well a model fits a dataset, it’s useful to calculate both the RMSE and the R2 value because each metric tells us something different.\n",
    "\n",
    "* **RMSE** tells us the typical distance between the predicted value made by the regression model and the actual value.\n",
    "\n",
    "* **R2** tells us how well the predictor variables can explain the variation in the response variable.\n",
    "\n",
    "Adding more independent variables or predictors to a regression model tends to increase the R2 value, which tempts makers of the model to add even more variables. **Adjusted R2** is used to determine how reliable the correlation is and how much it is determined by the addition of independent variables. It is always lower than the R2."
   ]
  },
  {
   "cell_type": "markdown",
   "id": "2f341d60",
   "metadata": {},
   "source": [
    "# 3 Set-up"
   ]
  },
  {
   "cell_type": "markdown",
   "id": "d44a2627",
   "metadata": {},
   "source": [
    "## 3. 1 Import Libraries"
   ]
  },
  {
   "cell_type": "code",
   "execution_count": 1,
   "id": "ff414c12",
   "metadata": {},
   "outputs": [],
   "source": [
    "import numpy as np\n",
    "import pandas as pd\n",
    "import seaborn as sns\n",
    "from matplotlib import pyplot as plt\n",
    "from statsmodels.stats.outliers_influence import variance_inflation_factor\n",
    "from sklearn.model_selection import cross_val_score\n",
    "\n",
    "from sklearn import metrics\n",
    "from collections import Counter"
   ]
  },
  {
   "cell_type": "markdown",
   "id": "8f0eeb91",
   "metadata": {},
   "source": [
    "## 3.2 Defining function for regression metrics"
   ]
  },
  {
   "cell_type": "code",
   "execution_count": 7,
   "id": "3026bf70",
   "metadata": {},
   "outputs": [],
   "source": [
    "def Reg_Models_Evaluation_Metrics (model,X_train,y_train,X_test,y_test,y_pred):\n",
    "    cv_score = cross_val_score(estimator = model, X = X_train, y = y_train, cv = 10)\n",
    "    \n",
    "    # Calculating Adjusted R-squared\n",
    "    r2 = model.score(X_test, y_test)\n",
    "    # Number of observations is the shape along axis 0\n",
    "    n = X_test.shape[0]\n",
    "    # Number of features (predictors, p) is the shape along axis 1\n",
    "    p = X_test.shape[1]\n",
    "    # Adjusted R-squared formula\n",
    "    adjusted_r2 = 1-(1-r2)*(n-1)/(n-p-1)\n",
    "    RMSE = np.sqrt(metrics.mean_squared_error(y_test, y_pred))\n",
    "    R2 = model.score(X_test, y_test)\n",
    "    CV_R2 = cv_score.mean()\n",
    "\n",
    "    return R2, adjusted_r2, CV_R2, RMSE\n",
    "    \n",
    "    print('RMSE:', round(RMSE,4))\n",
    "    print('R2:', round(R2,4))\n",
    "    print('Adjusted R2:', round(adjusted_r2, 4) )\n",
    "    print(\"Cross Validated R2: \", round(cv_score.mean(),4) )"
   ]
  },
  {
   "cell_type": "markdown",
   "id": "59165426",
   "metadata": {},
   "source": [
    "## 3.3 Data Sets Characteristics\n",
    "\n",
    "### Avocado Prices\n",
    "\n",
    "https://www.kaggle.com/datasets/neuromusic/avocado-prices\n",
    "\n",
    "Some relevant columns in the dataset:\n",
    "\n",
    " - Date - The date of the observation\n",
    "\n",
    " - AveragePrice - the average price of a single avocado\n",
    "\n",
    " - type - conventional or organic\n",
    "\n",
    " - year - the year\n",
    "\n",
    " - Region - the city or region of the observation\n",
    "\n",
    " - Total Volume - Total number of avocados sold\n",
    "\n",
    " - 4046 - Total number of avocados with PLU 4046 sold\n",
    "\n",
    " - 4225 - Total number of avocados with PLU 4225 sold\n",
    "\n",
    " - 4770 - Total number of avocados with PLU 4770 sold\n",
    " \n",
    "Missing values: None\n",
    "\n",
    "Duplicate entries: None\n",
    "\n",
    "### Boston House Prices\n",
    "\n",
    "https://www.kaggle.com/datasets/vikrishnan/boston-house-prices\n",
    "\n",
    "Each record in the database describes a Boston suburb or town. The data was drawn from the Boston Standard Metropolitan Statistical Area (SMSA) in 1970. The attributes are deﬁned as follows (taken from the UCI Machine Learning Repository1): CRIM: per capita crime rate by town\n",
    "\n",
    "  - CRIM     per capita crime rate by town\n",
    "  - ZN       proportion of residential land zoned for lots over 25,000 sq.ft.\n",
    "  - INDUS    proportion of non-retail business acres per town\n",
    "  - CHAS     Charles River dummy variable (= 1 if tract bounds river; 0 otherwise)\n",
    "  - NOX      nitric oxides concentration (parts per 10 million)\n",
    "  - RM       average number of rooms per dwelling\n",
    "  - AGE      proportion of owner-occupied units built prior to 1940\n",
    "  - DIS      weighted distances to five Boston employment centres\n",
    "  - RAD      index of accessibility to radial highways\n",
    "  - TAX      full-value property-tax rate per 10 000 USD\n",
    "  - PTRATIO  pupil-teacher ratio by town\n",
    "  - B        1000 (Bk - 0.63)^2 where Bk is the proportion of black people by town\n",
    "  - LSTAT    % lower status of the population\n",
    "  - MEDV     Median value of owner-occupied homes in $1000's\n",
    "\n",
    "Missing values: None\n",
    "\n",
    "Duplicate entries: None\n",
    "\n",
    "This is a copy of UCI ML housing dataset.\n",
    "https://archive.ics.uci.edu/ml/machine-learning-databases/housing/"
   ]
  },
  {
   "cell_type": "markdown",
   "id": "e0466a27",
   "metadata": {},
   "source": [
    "## 3.4 Import Data"
   ]
  },
  {
   "cell_type": "code",
   "execution_count": 8,
   "id": "3575119a",
   "metadata": {},
   "outputs": [],
   "source": [
    "column_names = ['CRIM', 'ZN', 'INDUS', 'CHAS', 'NOX', 'RM', 'AGE', 'DIS', 'RAD', 'TAX', 'PTRATIO', 'B', 'LSTAT', 'MEDV']\n",
    "\n",
    "try:\n",
    "    raw_df1 = pd.read_csv('/kaggle/input/avocado-prices/avocado.csv')\n",
    "    raw_df2 = pd.read_csv('../input/boston-house-prices/housing.csv', header = None, delimiter = r\"\\s+\", names = column_names)\n",
    "except:\n",
    "    raw_df1 = pd.read_csv('avocado.csv')\n",
    "    raw_df2 = pd.read_csv('housing.csv', header = None, delimiter = r\"\\s+\", names = column_names)"
   ]
  },
  {
   "cell_type": "code",
   "execution_count": 9,
   "id": "f5ca14e6",
   "metadata": {},
   "outputs": [],
   "source": [
    "# Deleting column\n",
    "raw_df1 = raw_df1.drop('Unnamed: 0', axis = 1)"
   ]
  },
  {
   "cell_type": "code",
   "execution_count": 10,
   "id": "44367bc9",
   "metadata": {},
   "outputs": [],
   "source": [
    "numeric_columns = ['AveragePrice', 'Total Volume','4046', '4225', '4770', 'Total Bags', 'Small Bags', 'Large Bags', 'XLarge Bags']\n",
    "categorical_columns = ['Region', 'Type']\n",
    "time_columns = ['Data', 'Year']\n",
    "numeric_columns_boston = ['CRIM', 'ZN', 'INDUS', 'NOX', 'RM', 'AGE', 'DIS', 'RAD', 'TAX', 'PTRATIO', 'B', 'LSTAT']"
   ]
  },
  {
   "cell_type": "markdown",
   "id": "f9221f79",
   "metadata": {},
   "source": [
    "# 4. Some visualisations"
   ]
  },
  {
   "cell_type": "markdown",
   "id": "89fc7d29",
   "metadata": {},
   "source": [
    "## 4.1 Avocado Prices"
   ]
  },
  {
   "cell_type": "code",
   "execution_count": 11,
   "id": "2fc7bbee",
   "metadata": {},
   "outputs": [
    {
     "data": {
      "image/png": "[encoded data removed]",
      "text/plain": [
       "<Figure size 1152x1152 with 9 Axes>"
      ]
     },
     "metadata": {
      "needs_background": "dark"
     },
     "output_type": "display_data"
    }
   ],
   "source": [
    "# Checking for distributions\n",
    "def dist_custom(dataset, columns_list, rows, cols, suptitle):\n",
    "    fig, axs = plt.subplots(rows, cols,figsize=(16,16))\n",
    "    fig.suptitle(suptitle,y=1, size=25)\n",
    "    axs = axs.flatten()\n",
    "    for i, data in enumerate(columns_list):\n",
    "        sns.kdeplot(dataset[data], ax=axs[i], fill=True,  alpha=.5, linewidth=0)\n",
    "        axs[i].set_title(data + ', skewness is '+str(round(dataset[data].skew(axis = 0, skipna = True),2)))\n",
    "\n",
    "dist_custom(dataset=raw_df1, columns_list=numeric_columns, rows=3, cols=3, suptitle='Avocado Prices: distibution for each numeric variable')\n",
    "plt.tight_layout()"
   ]
  },
  {
   "cell_type": "markdown",
   "id": "c5c71549",
   "metadata": {},
   "source": [
    "## 4.2 Boston House Prices"
   ]
  },
  {
   "cell_type": "code",
   "execution_count": 12,
   "id": "0e99ee70",
   "metadata": {},
   "outputs": [
    {
     "data": {
      "image/png": "[encoded data removed]",
      "text/plain": [
       "<Figure size 1152x1152 with 12 Axes>"
      ]
     },
     "metadata": {
      "needs_background": "dark"
     },
     "output_type": "display_data"
    }
   ],
   "source": [
    "dist_custom(dataset=raw_df2, columns_list=numeric_columns_boston, rows=4, cols=3, suptitle='Boston House Prices: distibution for each numeric variable')\n",
    "plt.tight_layout()"
   ]
  },
  {
   "cell_type": "markdown",
   "id": "d8966b0d",
   "metadata": {},
   "source": [
    "# 5. Data pre-processing"
   ]
  },
  {
   "cell_type": "markdown",
   "id": "2dd61c8c",
   "metadata": {},
   "source": [
    "## 5.1 Some transformations"
   ]
  },
  {
   "cell_type": "code",
   "execution_count": 13,
   "id": "2a34834d",
   "metadata": {},
   "outputs": [],
   "source": [
    "# Changing data types\n",
    "for i in raw_df1.columns:\n",
    "    if i == 'Date':\n",
    "        raw_df1[i] = raw_df1[i].astype('datetime64[ns]')\n",
    "    elif raw_df1[i].dtype == 'object':\n",
    "        raw_df1[i] = raw_df1[i].astype('category')"
   ]
  },
  {
   "cell_type": "code",
   "execution_count": 14,
   "id": "f5f856ab",
   "metadata": {},
   "outputs": [],
   "source": [
    "df1 = raw_df1.copy()\n",
    "\n",
    "df1['Date'] = pd.to_datetime(df1['Date'])\n",
    "df1['month'] = df1['Date'].dt.month\n",
    "\n",
    "df1['Spring'] = df1['month'].between(3,5,inclusive='both')\n",
    "df1['Summer'] = df1['month'].between(6,8,inclusive='both')\n",
    "df1['Fall'] = df1['month'].between(9,11,inclusive='both')\n",
    "# df1['Winter'] = df1['month'].between(12,2,inclusive='both')\n",
    "\n",
    "df1.Spring = df1.Spring.replace({True: 1, False: 0})\n",
    "df1.Summer = df1.Summer.replace({True: 1, False: 0})\n",
    "df1.Fall = df1.Fall.replace({True: 1, False: 0})"
   ]
  },
  {
   "cell_type": "code",
   "execution_count": 15,
   "id": "b04c815a",
   "metadata": {},
   "outputs": [],
   "source": [
    "# Encoding labels for 'type'\n",
    "from sklearn.preprocessing import LabelEncoder\n",
    "le = LabelEncoder()\n",
    "df1['type'] = le.fit_transform(df1['type'])\n",
    "\n",
    "# Encoding 'region' (One Hot Encoding)\n",
    "from sklearn.preprocessing import OneHotEncoder\n",
    "ohe = OneHotEncoder(drop='first', handle_unknown='ignore')\n",
    "ohe = pd.get_dummies(data=df1, columns=['region'])\n",
    "\n",
    "df1 = ohe.drop(['Date','4046','4225','4770','Small Bags','Large Bags','XLarge Bags'], axis=1)"
   ]
  },
  {
   "cell_type": "markdown",
   "id": "77714931",
   "metadata": {},
   "source": [
    "## 5.2 Outlier detection and removal"
   ]
  },
  {
   "cell_type": "markdown",
   "id": "4d9e3830",
   "metadata": {},
   "source": [
    "We have a significant problems with outliers in both data sets:\n",
    "\n",
    "* most of the distributions are not normal;\n",
    "\n",
    "* huge outliers;\n",
    "\n",
    "* higly right-skeved data in Avocado Prices data set;\n",
    "\n",
    "* a lot of outliers.\n",
    "\n",
    "Tukey’s (1977) technique is used to detect outliers in skewed or non bell-shaped data since it makes no distributional assumptions. However, Tukey’s method may not be appropriate for a small sample size. The general rule is that anything not in the range of (Q1 - 1.5 IQR) and (Q3 + 1.5 IQR) is an outlier, and can be removed.\n",
    "\n",
    "Inter Quartile Range (IQR) is one of the most extensively used procedure for outlier detection and removal.\n",
    "\n",
    "Procedure:\n",
    "\n",
    "1. Find the first quartile, Q1.\n",
    "2. Find the third quartile, Q3.\n",
    "3. Calculate the IQR. IQR = Q3-Q1.\n",
    "4. Define the normal data range with lower limit as Q1–1.5 IQR and upper limit as Q3+1.5 IQR.\n",
    "\n",
    "For oulier detection methods look here: https://www.kaggle.com/code/marcinrutecki/outlier-detection-methods"
   ]
  },
  {
   "cell_type": "code",
   "execution_count": 16,
   "id": "b12a648a",
   "metadata": {},
   "outputs": [],
   "source": [
    "def IQR_method (df,n,features):\n",
    "    \"\"\"\n",
    "    Takes a dataframe and returns an index list corresponding to the observations \n",
    "    containing more than n outliers according to the Tukey IQR method.\n",
    "    \"\"\"\n",
    "    outlier_list = []\n",
    "    \n",
    "    for column in features:\n",
    "                \n",
    "        # 1st quartile (25%)\n",
    "        Q1 = np.percentile(df[column], 25)\n",
    "        # 3rd quartile (75%)\n",
    "        Q3 = np.percentile(df[column],75)\n",
    "        \n",
    "        # Interquartile range (IQR)\n",
    "        IQR = Q3 - Q1\n",
    "        \n",
    "        # outlier step\n",
    "        outlier_step = 1.5 * IQR\n",
    "        \n",
    "        # Determining a list of indices of outliers\n",
    "        outlier_list_column = df[(df[column] < Q1 - outlier_step) | (df[column] > Q3 + outlier_step )].index\n",
    "        \n",
    "        # appending the list of outliers \n",
    "        outlier_list.extend(outlier_list_column)\n",
    "        \n",
    "    # selecting observations containing more than x outliers\n",
    "    outlier_list = Counter(outlier_list)        \n",
    "    multiple_outliers = list( k for k, v in outlier_list.items() if v > n )\n",
    "    \n",
    "    # Calculate the number of records below and above lower and above bound value respectively\n",
    "    df1 = df[df[column] < Q1 - outlier_step]\n",
    "    df2 = df[df[column] > Q3 + outlier_step]\n",
    "    \n",
    "    print('Total number of deleted outliers:', df1.shape[0]+df2.shape[0])\n",
    "    \n",
    "    return multiple_outliers"
   ]
  },
  {
   "cell_type": "code",
   "execution_count": 17,
   "id": "bfe0db28",
   "metadata": {},
   "outputs": [
    {
     "name": "stdout",
     "output_type": "stream",
     "text": [
      "Total number of deleted outliers: 2533\n"
     ]
    }
   ],
   "source": [
    "numeric_columns2 = ['Total Volume', 'Total Bags']\n",
    "\n",
    "Outliers_IQR = IQR_method(df1,1,numeric_columns2)\n",
    "# dropping outliers\n",
    "df1 = df1.drop(Outliers_IQR, axis = 0).reset_index(drop=True)"
   ]
  },
  {
   "cell_type": "code",
   "execution_count": 18,
   "id": "b1eebdc4",
   "metadata": {},
   "outputs": [
    {
     "name": "stdout",
     "output_type": "stream",
     "text": [
      "Total number of deleted outliers: 7\n"
     ]
    }
   ],
   "source": [
    "numeric_columns2 = ['CRIM', 'ZN', 'NOX', 'RM', 'AGE', 'DIS', 'PTRATIO', 'B', 'LSTAT']\n",
    "\n",
    "Outliers_IQR = IQR_method(raw_df2,1,numeric_columns2)\n",
    "# dropping outliers\n",
    "df2 = raw_df2.drop(Outliers_IQR, axis = 0).reset_index(drop=True)"
   ]
  },
  {
   "cell_type": "markdown",
   "id": "ff210afa",
   "metadata": {},
   "source": [
    "## 5.3 Train test split"
   ]
  },
  {
   "cell_type": "code",
   "execution_count": 19,
   "id": "3e9a2879",
   "metadata": {},
   "outputs": [],
   "source": [
    "X = df1.drop('AveragePrice', axis=1)\n",
    "y = df1['AveragePrice']\n",
    "\n",
    "X2 = raw_df2.iloc[:, :-1]\n",
    "y2 = raw_df2.iloc[:, -1]"
   ]
  },
  {
   "cell_type": "code",
   "execution_count": 20,
   "id": "87d6e0de",
   "metadata": {},
   "outputs": [],
   "source": [
    "from sklearn.model_selection import train_test_split\n",
    "X_train, X_test, y_train, y_test = train_test_split(X, y, test_size = 0.3, random_state = 42)\n",
    "X_train2, X_test2, y_train2, y_test2 = train_test_split(X2, y2, test_size = 0.3, random_state = 42)"
   ]
  },
  {
   "cell_type": "markdown",
   "id": "df191b4e",
   "metadata": {},
   "source": [
    "## 5.4 Feature scaling"
   ]
  },
  {
   "cell_type": "code",
   "execution_count": 21,
   "id": "184efb72",
   "metadata": {},
   "outputs": [],
   "source": [
    "from sklearn.preprocessing import StandardScaler\n",
    "\n",
    "# Creating function for scaling\n",
    "def Standard_Scaler (df, col_names):\n",
    "    features = df[col_names]\n",
    "    scaler = StandardScaler().fit(features.values)\n",
    "    features = scaler.transform(features.values)\n",
    "    df[col_names] = features\n",
    "    \n",
    "    return df"
   ]
  },
  {
   "cell_type": "code",
   "execution_count": 22,
   "id": "4ebe0a94",
   "metadata": {},
   "outputs": [],
   "source": [
    "col_names = ['Total Volume', 'Total Bags']\n",
    "X_train = Standard_Scaler (X_train, col_names)\n",
    "X_test = Standard_Scaler (X_test, col_names)\n",
    "\n",
    "col_names = ['CRIM', 'ZN', 'INDUS', 'NOX', 'RM', 'AGE', 'DIS', 'RAD', 'TAX', 'PTRATIO', 'B', 'LSTAT']\n",
    "X_train2 = Standard_Scaler (X_train2, col_names)\n",
    "X_test2 = Standard_Scaler (X_test2, col_names)"
   ]
  },
  {
   "cell_type": "markdown",
   "id": "4abcb4de",
   "metadata": {},
   "source": [
    "# 6. Comparing different models"
   ]
  },
  {
   "cell_type": "markdown",
   "id": "064656dc",
   "metadata": {},
   "source": [
    "## 6.1 Linear Regression"
   ]
  },
  {
   "cell_type": "code",
   "execution_count": 23,
   "id": "a17a628f",
   "metadata": {},
   "outputs": [],
   "source": [
    "from sklearn.linear_model import LinearRegression\n",
    "\n",
    "# Creating and training model\n",
    "lm = LinearRegression()\n",
    "lm.fit(X_train, y_train)\n",
    "\n",
    "# Model making a prediction on test data\n",
    "y_pred = lm.predict(X_test)"
   ]
  },
  {
   "cell_type": "markdown",
   "id": "cf0216ad",
   "metadata": {},
   "source": [
    "### Linear Regression performance for Avocado dataset"
   ]
  },
  {
   "cell_type": "code",
   "execution_count": 24,
   "id": "b4757086",
   "metadata": {},
   "outputs": [
    {
     "data": {
      "text/html": [
       "<div>\n",
       "<style scoped>\n",
       "    .dataframe tbody tr th:only-of-type {\n",
       "        vertical-align: middle;\n",
       "    }\n",
       "\n",
       "    .dataframe tbody tr th {\n",
       "        vertical-align: top;\n",
       "    }\n",
       "\n",
       "    .dataframe thead th {\n",
       "        text-align: right;\n",
       "    }\n",
       "</style>\n",
       "<table border=\"1\" class=\"dataframe\">\n",
       "  <thead>\n",
       "    <tr style=\"text-align: right;\">\n",
       "      <th></th>\n",
       "      <th>Model</th>\n",
       "      <th>R2 Score</th>\n",
       "      <th>Adjusted R2 Score</th>\n",
       "      <th>Cross Validated R2 Score</th>\n",
       "      <th>RMSE</th>\n",
       "    </tr>\n",
       "  </thead>\n",
       "  <tbody>\n",
       "    <tr>\n",
       "      <th>0</th>\n",
       "      <td>Linear Regression</td>\n",
       "      <td>0.598793</td>\n",
       "      <td>0.593598</td>\n",
       "      <td>0.604282</td>\n",
       "      <td>0.255931</td>\n",
       "    </tr>\n",
       "  </tbody>\n",
       "</table>\n",
       "</div>"
      ],
      "text/plain": [
       "               Model  R2 Score  Adjusted R2 Score  Cross Validated R2 Score  \\\n",
       "0  Linear Regression  0.598793           0.593598                  0.604282   \n",
       "\n",
       "       RMSE  \n",
       "0  0.255931  "
      ]
     },
     "execution_count": 24,
     "metadata": {},
     "output_type": "execute_result"
    }
   ],
   "source": [
    "ndf = [Reg_Models_Evaluation_Metrics(lm,X_train,y_train,X_test,y_test,y_pred)]\n",
    "\n",
    "lm_score = pd.DataFrame(data = ndf, columns=['R2 Score','Adjusted R2 Score','Cross Validated R2 Score','RMSE'])\n",
    "lm_score.insert(0, 'Model', 'Linear Regression')\n",
    "lm_score"
   ]
  },
  {
   "cell_type": "code",
   "execution_count": 25,
   "id": "175378ce",
   "metadata": {},
   "outputs": [
    {
     "data": {
      "text/plain": [
       "Text(0.5, 1.0, 'Linear regression for Avocado dataset')"
      ]
     },
     "execution_count": 25,
     "metadata": {},
     "output_type": "execute_result"
    },
    {
     "data": {
      "image/png": "[encoded data removed]",
      "text/plain": [
       "<Figure size 720x360 with 1 Axes>"
      ]
     },
     "metadata": {
      "needs_background": "dark"
     },
     "output_type": "display_data"
    }
   ],
   "source": [
    "plt.figure(figsize = (10,5))\n",
    "sns.regplot(x=y_test,y=y_pred)\n",
    "plt.title('Linear regression for Avocado dataset', fontsize = 20)"
   ]
  },
  {
   "cell_type": "markdown",
   "id": "4fd8a831",
   "metadata": {},
   "source": [
    "### Linear Regression performance for Boston dataset"
   ]
  },
  {
   "cell_type": "code",
   "execution_count": 26,
   "id": "852bb12f",
   "metadata": {},
   "outputs": [],
   "source": [
    "lm.fit(X_train2, y_train2)\n",
    "y_pred = lm.predict(X_test2)"
   ]
  },
  {
   "cell_type": "code",
   "execution_count": 27,
   "id": "f667a6e4",
   "metadata": {},
   "outputs": [
    {
     "data": {
      "text/html": [
       "<div>\n",
       "<style scoped>\n",
       "    .dataframe tbody tr th:only-of-type {\n",
       "        vertical-align: middle;\n",
       "    }\n",
       "\n",
       "    .dataframe tbody tr th {\n",
       "        vertical-align: top;\n",
       "    }\n",
       "\n",
       "    .dataframe thead th {\n",
       "        text-align: right;\n",
       "    }\n",
       "</style>\n",
       "<table border=\"1\" class=\"dataframe\">\n",
       "  <thead>\n",
       "    <tr style=\"text-align: right;\">\n",
       "      <th></th>\n",
       "      <th>Model</th>\n",
       "      <th>R2 Score</th>\n",
       "      <th>Adjusted R2 Score</th>\n",
       "      <th>Cross Validated R2 Score</th>\n",
       "      <th>RMSE</th>\n",
       "    </tr>\n",
       "  </thead>\n",
       "  <tbody>\n",
       "    <tr>\n",
       "      <th>0</th>\n",
       "      <td>Linear Regression</td>\n",
       "      <td>0.679168</td>\n",
       "      <td>0.648945</td>\n",
       "      <td>0.687535</td>\n",
       "      <td>4.889394</td>\n",
       "    </tr>\n",
       "  </tbody>\n",
       "</table>\n",
       "</div>"
      ],
      "text/plain": [
       "               Model  R2 Score  Adjusted R2 Score  Cross Validated R2 Score  \\\n",
       "0  Linear Regression  0.679168           0.648945                  0.687535   \n",
       "\n",
       "       RMSE  \n",
       "0  4.889394  "
      ]
     },
     "execution_count": 27,
     "metadata": {},
     "output_type": "execute_result"
    }
   ],
   "source": [
    "ndf = [Reg_Models_Evaluation_Metrics(lm,X_train2,y_train2,X_test2,y_test2,y_pred)]\n",
    "\n",
    "lm_score2 = pd.DataFrame(data = ndf, columns=['R2 Score','Adjusted R2 Score','Cross Validated R2 Score','RMSE'])\n",
    "lm_score2.insert(0, 'Model', 'Linear Regression')\n",
    "lm_score2"
   ]
  },
  {
   "cell_type": "markdown",
   "id": "e735a0c6",
   "metadata": {},
   "source": [
    "## 6.2 Random Forest"
   ]
  },
  {
   "cell_type": "code",
   "execution_count": 28,
   "id": "e522cc3b",
   "metadata": {},
   "outputs": [],
   "source": [
    "from sklearn.ensemble import RandomForestRegressor\n",
    "\n",
    "# Creating and training model\n",
    "RandomForest_reg = RandomForestRegressor(n_estimators = 10, random_state = 0)"
   ]
  },
  {
   "cell_type": "markdown",
   "id": "16d8f911",
   "metadata": {},
   "source": [
    "### Random Forest performance for Avocado dataset"
   ]
  },
  {
   "cell_type": "code",
   "execution_count": 29,
   "id": "c931c712",
   "metadata": {},
   "outputs": [],
   "source": [
    "RandomForest_reg.fit(X_train, y_train)\n",
    "# Model making a prediction on test data\n",
    "y_pred = RandomForest_reg.predict(X_test)"
   ]
  },
  {
   "cell_type": "code",
   "execution_count": 30,
   "id": "6a159c6d",
   "metadata": {},
   "outputs": [
    {
     "data": {
      "text/html": [
       "<div>\n",
       "<style scoped>\n",
       "    .dataframe tbody tr th:only-of-type {\n",
       "        vertical-align: middle;\n",
       "    }\n",
       "\n",
       "    .dataframe tbody tr th {\n",
       "        vertical-align: top;\n",
       "    }\n",
       "\n",
       "    .dataframe thead th {\n",
       "        text-align: right;\n",
       "    }\n",
       "</style>\n",
       "<table border=\"1\" class=\"dataframe\">\n",
       "  <thead>\n",
       "    <tr style=\"text-align: right;\">\n",
       "      <th></th>\n",
       "      <th>Model</th>\n",
       "      <th>R2 Score</th>\n",
       "      <th>Adjusted R2 Score</th>\n",
       "      <th>Cross Validated R2 Score</th>\n",
       "      <th>RMSE</th>\n",
       "    </tr>\n",
       "  </thead>\n",
       "  <tbody>\n",
       "    <tr>\n",
       "      <th>0</th>\n",
       "      <td>Random Forest</td>\n",
       "      <td>0.78712</td>\n",
       "      <td>0.784363</td>\n",
       "      <td>0.876525</td>\n",
       "      <td>0.186426</td>\n",
       "    </tr>\n",
       "  </tbody>\n",
       "</table>\n",
       "</div>"
      ],
      "text/plain": [
       "           Model  R2 Score  Adjusted R2 Score  Cross Validated R2 Score  \\\n",
       "0  Random Forest   0.78712           0.784363                  0.876525   \n",
       "\n",
       "       RMSE  \n",
       "0  0.186426  "
      ]
     },
     "execution_count": 30,
     "metadata": {},
     "output_type": "execute_result"
    }
   ],
   "source": [
    "ndf = [Reg_Models_Evaluation_Metrics(RandomForest_reg,X_train,y_train,X_test,y_test,y_pred)]\n",
    "\n",
    "rf_score = pd.DataFrame(data = ndf, columns=['R2 Score','Adjusted R2 Score','Cross Validated R2 Score','RMSE'])\n",
    "rf_score.insert(0, 'Model', 'Random Forest')\n",
    "rf_score"
   ]
  },
  {
   "cell_type": "markdown",
   "id": "19119f77",
   "metadata": {},
   "source": [
    "### Random Forest performance for Boston dataset"
   ]
  },
  {
   "cell_type": "code",
   "execution_count": 31,
   "id": "627106cf",
   "metadata": {},
   "outputs": [],
   "source": [
    "RandomForest_reg.fit(X_train2, y_train2)\n",
    "# Model making a prediction on test data\n",
    "y_pred = RandomForest_reg.predict(X_test2)"
   ]
  },
  {
   "cell_type": "code",
   "execution_count": 32,
   "id": "d8575b61",
   "metadata": {},
   "outputs": [
    {
     "data": {
      "text/html": [
       "<div>\n",
       "<style scoped>\n",
       "    .dataframe tbody tr th:only-of-type {\n",
       "        vertical-align: middle;\n",
       "    }\n",
       "\n",
       "    .dataframe tbody tr th {\n",
       "        vertical-align: top;\n",
       "    }\n",
       "\n",
       "    .dataframe thead th {\n",
       "        text-align: right;\n",
       "    }\n",
       "</style>\n",
       "<table border=\"1\" class=\"dataframe\">\n",
       "  <thead>\n",
       "    <tr style=\"text-align: right;\">\n",
       "      <th></th>\n",
       "      <th>Model</th>\n",
       "      <th>R2 Score</th>\n",
       "      <th>Adjusted R2 Score</th>\n",
       "      <th>Cross Validated R2 Score</th>\n",
       "      <th>RMSE</th>\n",
       "    </tr>\n",
       "  </thead>\n",
       "  <tbody>\n",
       "    <tr>\n",
       "      <th>0</th>\n",
       "      <td>Random Forest</td>\n",
       "      <td>0.838576</td>\n",
       "      <td>0.823369</td>\n",
       "      <td>0.817514</td>\n",
       "      <td>3.468169</td>\n",
       "    </tr>\n",
       "  </tbody>\n",
       "</table>\n",
       "</div>"
      ],
      "text/plain": [
       "           Model  R2 Score  Adjusted R2 Score  Cross Validated R2 Score  \\\n",
       "0  Random Forest  0.838576           0.823369                  0.817514   \n",
       "\n",
       "       RMSE  \n",
       "0  3.468169  "
      ]
     },
     "execution_count": 32,
     "metadata": {},
     "output_type": "execute_result"
    }
   ],
   "source": [
    "ndf = [Reg_Models_Evaluation_Metrics(RandomForest_reg,X_train2,y_train2,X_test2,y_test2,y_pred)]\n",
    "\n",
    "rf_score2 = pd.DataFrame(data = ndf, columns=['R2 Score','Adjusted R2 Score','Cross Validated R2 Score','RMSE'])\n",
    "rf_score2.insert(0, 'Model', 'Random Forest')\n",
    "rf_score2"
   ]
  },
  {
   "cell_type": "markdown",
   "id": "262d08c7",
   "metadata": {},
   "source": [
    "## 6.3 Ridge Regression"
   ]
  },
  {
   "cell_type": "code",
   "execution_count": 33,
   "id": "8c2ffda7",
   "metadata": {},
   "outputs": [],
   "source": [
    "from sklearn.linear_model import Ridge\n",
    "\n",
    "# Creating and training model\n",
    "ridge_reg = Ridge(alpha=3, solver=\"cholesky\")"
   ]
  },
  {
   "cell_type": "markdown",
   "id": "67811797",
   "metadata": {},
   "source": [
    "### Ridge Regression performance for Avocado dataset"
   ]
  },
  {
   "cell_type": "code",
   "execution_count": 34,
   "id": "b81d3f48",
   "metadata": {},
   "outputs": [],
   "source": [
    "ridge_reg.fit(X_train, y_train)\n",
    "# Model making a prediction on test data\n",
    "y_pred = ridge_reg.predict(X_test)"
   ]
  },
  {
   "cell_type": "code",
   "execution_count": 35,
   "id": "aa790806",
   "metadata": {},
   "outputs": [
    {
     "data": {
      "text/html": [
       "<div>\n",
       "<style scoped>\n",
       "    .dataframe tbody tr th:only-of-type {\n",
       "        vertical-align: middle;\n",
       "    }\n",
       "\n",
       "    .dataframe tbody tr th {\n",
       "        vertical-align: top;\n",
       "    }\n",
       "\n",
       "    .dataframe thead th {\n",
       "        text-align: right;\n",
       "    }\n",
       "</style>\n",
       "<table border=\"1\" class=\"dataframe\">\n",
       "  <thead>\n",
       "    <tr style=\"text-align: right;\">\n",
       "      <th></th>\n",
       "      <th>Model</th>\n",
       "      <th>R2 Score</th>\n",
       "      <th>Adjusted R2 Score</th>\n",
       "      <th>Cross Validated R2 Score</th>\n",
       "      <th>RMSE</th>\n",
       "    </tr>\n",
       "  </thead>\n",
       "  <tbody>\n",
       "    <tr>\n",
       "      <th>0</th>\n",
       "      <td>Ridge Regression</td>\n",
       "      <td>0.598733</td>\n",
       "      <td>0.593537</td>\n",
       "      <td>0.604317</td>\n",
       "      <td>0.25595</td>\n",
       "    </tr>\n",
       "  </tbody>\n",
       "</table>\n",
       "</div>"
      ],
      "text/plain": [
       "              Model  R2 Score  Adjusted R2 Score  Cross Validated R2 Score  \\\n",
       "0  Ridge Regression  0.598733           0.593537                  0.604317   \n",
       "\n",
       "      RMSE  \n",
       "0  0.25595  "
      ]
     },
     "execution_count": 35,
     "metadata": {},
     "output_type": "execute_result"
    }
   ],
   "source": [
    "ndf = [Reg_Models_Evaluation_Metrics(ridge_reg,X_train,y_train,X_test,y_test,y_pred)]\n",
    "\n",
    "rr_score = pd.DataFrame(data = ndf, columns=['R2 Score','Adjusted R2 Score','Cross Validated R2 Score','RMSE'])\n",
    "rr_score.insert(0, 'Model', 'Ridge Regression')\n",
    "rr_score"
   ]
  },
  {
   "cell_type": "markdown",
   "id": "ae2dbcaf",
   "metadata": {},
   "source": [
    "### Ridge Regression performance for Boston dataset"
   ]
  },
  {
   "cell_type": "code",
   "execution_count": 36,
   "id": "9bfaafd0",
   "metadata": {},
   "outputs": [],
   "source": [
    "ridge_reg.fit(X_train2, y_train2)\n",
    "# Model making a prediction on test data\n",
    "y_pred = ridge_reg.predict(X_test2)"
   ]
  },
  {
   "cell_type": "code",
   "execution_count": 37,
   "id": "862f1478",
   "metadata": {},
   "outputs": [
    {
     "data": {
      "text/html": [
       "<div>\n",
       "<style scoped>\n",
       "    .dataframe tbody tr th:only-of-type {\n",
       "        vertical-align: middle;\n",
       "    }\n",
       "\n",
       "    .dataframe tbody tr th {\n",
       "        vertical-align: top;\n",
       "    }\n",
       "\n",
       "    .dataframe thead th {\n",
       "        text-align: right;\n",
       "    }\n",
       "</style>\n",
       "<table border=\"1\" class=\"dataframe\">\n",
       "  <thead>\n",
       "    <tr style=\"text-align: right;\">\n",
       "      <th></th>\n",
       "      <th>Model</th>\n",
       "      <th>R2 Score</th>\n",
       "      <th>Adjusted R2 Score</th>\n",
       "      <th>Cross Validated R2 Score</th>\n",
       "      <th>RMSE</th>\n",
       "    </tr>\n",
       "  </thead>\n",
       "  <tbody>\n",
       "    <tr>\n",
       "      <th>0</th>\n",
       "      <td>Ridge Regression</td>\n",
       "      <td>0.678696</td>\n",
       "      <td>0.648428</td>\n",
       "      <td>0.689293</td>\n",
       "      <td>4.892991</td>\n",
       "    </tr>\n",
       "  </tbody>\n",
       "</table>\n",
       "</div>"
      ],
      "text/plain": [
       "              Model  R2 Score  Adjusted R2 Score  Cross Validated R2 Score  \\\n",
       "0  Ridge Regression  0.678696           0.648428                  0.689293   \n",
       "\n",
       "       RMSE  \n",
       "0  4.892991  "
      ]
     },
     "execution_count": 37,
     "metadata": {},
     "output_type": "execute_result"
    }
   ],
   "source": [
    "ndf = [Reg_Models_Evaluation_Metrics(ridge_reg,X_train2,y_train2,X_test2,y_test2,y_pred)]\n",
    "\n",
    "rr_score2 = pd.DataFrame(data = ndf, columns=['R2 Score','Adjusted R2 Score','Cross Validated R2 Score','RMSE'])\n",
    "rr_score2.insert(0, 'Model', 'Ridge Regression')\n",
    "rr_score2"
   ]
  },
  {
   "cell_type": "markdown",
   "id": "15b4d6a9",
   "metadata": {},
   "source": [
    "## 6.4 XGBoost"
   ]
  },
  {
   "cell_type": "code",
   "execution_count": 38,
   "id": "78c175f9",
   "metadata": {},
   "outputs": [],
   "source": [
    "from xgboost import XGBRegressor\n",
    "# create an xgboost regression model\n",
    "XGBR = XGBRegressor(n_estimators=1000, max_depth=7, eta=0.1, subsample=0.8, colsample_bytree=0.8)"
   ]
  },
  {
   "cell_type": "markdown",
   "id": "3c0da9be",
   "metadata": {},
   "source": [
    "### XGBoost performance for Avocado dataset"
   ]
  },
  {
   "cell_type": "code",
   "execution_count": 39,
   "id": "3a17c126",
   "metadata": {},
   "outputs": [],
   "source": [
    "XGBR.fit(X_train, y_train)\n",
    "# Model making a prediction on test data\n",
    "y_pred = XGBR.predict(X_test)"
   ]
  },
  {
   "cell_type": "code",
   "execution_count": 40,
   "id": "d828e4a8",
   "metadata": {},
   "outputs": [
    {
     "data": {
      "text/html": [
       "<div>\n",
       "<style scoped>\n",
       "    .dataframe tbody tr th:only-of-type {\n",
       "        vertical-align: middle;\n",
       "    }\n",
       "\n",
       "    .dataframe tbody tr th {\n",
       "        vertical-align: top;\n",
       "    }\n",
       "\n",
       "    .dataframe thead th {\n",
       "        text-align: right;\n",
       "    }\n",
       "</style>\n",
       "<table border=\"1\" class=\"dataframe\">\n",
       "  <thead>\n",
       "    <tr style=\"text-align: right;\">\n",
       "      <th></th>\n",
       "      <th>Model</th>\n",
       "      <th>R2 Score</th>\n",
       "      <th>Adjusted R2 Score</th>\n",
       "      <th>Cross Validated R2 Score</th>\n",
       "      <th>RMSE</th>\n",
       "    </tr>\n",
       "  </thead>\n",
       "  <tbody>\n",
       "    <tr>\n",
       "      <th>0</th>\n",
       "      <td>XGBoost</td>\n",
       "      <td>0.795064</td>\n",
       "      <td>0.792411</td>\n",
       "      <td>0.910449</td>\n",
       "      <td>0.182914</td>\n",
       "    </tr>\n",
       "  </tbody>\n",
       "</table>\n",
       "</div>"
      ],
      "text/plain": [
       "     Model  R2 Score  Adjusted R2 Score  Cross Validated R2 Score      RMSE\n",
       "0  XGBoost  0.795064           0.792411                  0.910449  0.182914"
      ]
     },
     "execution_count": 40,
     "metadata": {},
     "output_type": "execute_result"
    }
   ],
   "source": [
    "ndf = [Reg_Models_Evaluation_Metrics(XGBR,X_train,y_train,X_test,y_test,y_pred)]\n",
    "\n",
    "XGBR_score = pd.DataFrame(data = ndf, columns=['R2 Score','Adjusted R2 Score','Cross Validated R2 Score','RMSE'])\n",
    "XGBR_score.insert(0, 'Model', 'XGBoost')\n",
    "XGBR_score"
   ]
  },
  {
   "cell_type": "markdown",
   "id": "ad830a4e",
   "metadata": {},
   "source": [
    "### XGBoost performance for Boston dataset"
   ]
  },
  {
   "cell_type": "code",
   "execution_count": 41,
   "id": "fdf1c6a8",
   "metadata": {},
   "outputs": [],
   "source": [
    "XGBR.fit(X_train2, y_train2)\n",
    "# Model making a prediction on test data\n",
    "y_pred = XGBR.predict(X_test2)"
   ]
  },
  {
   "cell_type": "code",
   "execution_count": 42,
   "id": "05e8ff6b",
   "metadata": {},
   "outputs": [
    {
     "data": {
      "text/html": [
       "<div>\n",
       "<style scoped>\n",
       "    .dataframe tbody tr th:only-of-type {\n",
       "        vertical-align: middle;\n",
       "    }\n",
       "\n",
       "    .dataframe tbody tr th {\n",
       "        vertical-align: top;\n",
       "    }\n",
       "\n",
       "    .dataframe thead th {\n",
       "        text-align: right;\n",
       "    }\n",
       "</style>\n",
       "<table border=\"1\" class=\"dataframe\">\n",
       "  <thead>\n",
       "    <tr style=\"text-align: right;\">\n",
       "      <th></th>\n",
       "      <th>Model</th>\n",
       "      <th>R2 Score</th>\n",
       "      <th>Adjusted R2 Score</th>\n",
       "      <th>Cross Validated R2 Score</th>\n",
       "      <th>RMSE</th>\n",
       "    </tr>\n",
       "  </thead>\n",
       "  <tbody>\n",
       "    <tr>\n",
       "      <th>0</th>\n",
       "      <td>XGBoost</td>\n",
       "      <td>0.899321</td>\n",
       "      <td>0.889837</td>\n",
       "      <td>0.8469</td>\n",
       "      <td>2.738961</td>\n",
       "    </tr>\n",
       "  </tbody>\n",
       "</table>\n",
       "</div>"
      ],
      "text/plain": [
       "     Model  R2 Score  Adjusted R2 Score  Cross Validated R2 Score      RMSE\n",
       "0  XGBoost  0.899321           0.889837                    0.8469  2.738961"
      ]
     },
     "execution_count": 42,
     "metadata": {},
     "output_type": "execute_result"
    }
   ],
   "source": [
    "ndf = [Reg_Models_Evaluation_Metrics(XGBR,X_train2,y_train2,X_test2,y_test2,y_pred)]\n",
    "\n",
    "XGBR_score2 = pd.DataFrame(data = ndf, columns=['R2 Score','Adjusted R2 Score','Cross Validated R2 Score','RMSE'])\n",
    "XGBR_score2.insert(0, 'Model', 'XGBoost')\n",
    "XGBR_score2"
   ]
  },
  {
   "cell_type": "markdown",
   "id": "3621ed77",
   "metadata": {},
   "source": [
    "## 6.5 Recursive Feature Elimination (RFE)"
   ]
  },
  {
   "cell_type": "markdown",
   "id": "a6cbd6ea",
   "metadata": {},
   "source": [
    "RFE is a wrapper-type feature selection algorithm. This means that a different machine learning algorithm is given and used in the core of the method, is wrapped by RFE, and used to help select features.\n",
    "\n",
    "Random Forest has usually good performance combining with RFE"
   ]
  },
  {
   "cell_type": "code",
   "execution_count": 43,
   "id": "fbdbaea6",
   "metadata": {},
   "outputs": [],
   "source": [
    "from sklearn.feature_selection import RFE\n",
    "from sklearn.pipeline import Pipeline\n",
    "\n",
    "# create pipeline\n",
    "rfe = RFE(estimator=RandomForestRegressor(), n_features_to_select=60)\n",
    "model = RandomForestRegressor()\n",
    "rf_pipeline = Pipeline(steps=[('s',rfe),('m',model)])"
   ]
  },
  {
   "cell_type": "markdown",
   "id": "c518ee6a",
   "metadata": {},
   "source": [
    "### Random Forest RFE performance for Avocado dataset"
   ]
  },
  {
   "cell_type": "code",
   "execution_count": 44,
   "id": "995b2827",
   "metadata": {},
   "outputs": [],
   "source": [
    "rf_pipeline.fit(X_train, y_train)\n",
    "# Model making a prediction on test data\n",
    "y_pred = rf_pipeline.predict(X_test)"
   ]
  },
  {
   "cell_type": "code",
   "execution_count": 45,
   "id": "da582d2f",
   "metadata": {},
   "outputs": [
    {
     "data": {
      "text/html": [
       "<div>\n",
       "<style scoped>\n",
       "    .dataframe tbody tr th:only-of-type {\n",
       "        vertical-align: middle;\n",
       "    }\n",
       "\n",
       "    .dataframe tbody tr th {\n",
       "        vertical-align: top;\n",
       "    }\n",
       "\n",
       "    .dataframe thead th {\n",
       "        text-align: right;\n",
       "    }\n",
       "</style>\n",
       "<table border=\"1\" class=\"dataframe\">\n",
       "  <thead>\n",
       "    <tr style=\"text-align: right;\">\n",
       "      <th></th>\n",
       "      <th>Model</th>\n",
       "      <th>R2 Score</th>\n",
       "      <th>Adjusted R2 Score</th>\n",
       "      <th>Cross Validated R2 Score</th>\n",
       "      <th>RMSE</th>\n",
       "    </tr>\n",
       "  </thead>\n",
       "  <tbody>\n",
       "    <tr>\n",
       "      <th>0</th>\n",
       "      <td>Random Forest with RFE</td>\n",
       "      <td>0.802443</td>\n",
       "      <td>0.799885</td>\n",
       "      <td>0.889693</td>\n",
       "      <td>0.179591</td>\n",
       "    </tr>\n",
       "  </tbody>\n",
       "</table>\n",
       "</div>"
      ],
      "text/plain": [
       "                    Model  R2 Score  Adjusted R2 Score  \\\n",
       "0  Random Forest with RFE  0.802443           0.799885   \n",
       "\n",
       "   Cross Validated R2 Score      RMSE  \n",
       "0                  0.889693  0.179591  "
      ]
     },
     "execution_count": 45,
     "metadata": {},
     "output_type": "execute_result"
    }
   ],
   "source": [
    "ndf = [Reg_Models_Evaluation_Metrics(rf_pipeline,X_train,y_train,X_test,y_test,y_pred)]\n",
    "\n",
    "rfe_score = pd.DataFrame(data = ndf, columns=['R2 Score','Adjusted R2 Score','Cross Validated R2 Score','RMSE'])\n",
    "rfe_score.insert(0, 'Model', 'Random Forest with RFE')\n",
    "rfe_score"
   ]
  },
  {
   "cell_type": "markdown",
   "id": "dbea0193",
   "metadata": {},
   "source": [
    "### Random Forest RFE performance for Boston dataset"
   ]
  },
  {
   "cell_type": "code",
   "execution_count": 46,
   "id": "ebb07103",
   "metadata": {},
   "outputs": [],
   "source": [
    "# create pipeline\n",
    "rfe = RFE(estimator=RandomForestRegressor(), n_features_to_select=8)\n",
    "model = RandomForestRegressor()\n",
    "rf_pipeline = Pipeline(steps=[('s',rfe),('m',model)])\n",
    "\n",
    "rf_pipeline.fit(X_train2, y_train2)\n",
    "# Model making a prediction on test data\n",
    "y_pred = rf_pipeline.predict(X_test2)"
   ]
  },
  {
   "cell_type": "code",
   "execution_count": 47,
   "id": "061a5987",
   "metadata": {},
   "outputs": [
    {
     "data": {
      "text/html": [
       "<div>\n",
       "<style scoped>\n",
       "    .dataframe tbody tr th:only-of-type {\n",
       "        vertical-align: middle;\n",
       "    }\n",
       "\n",
       "    .dataframe tbody tr th {\n",
       "        vertical-align: top;\n",
       "    }\n",
       "\n",
       "    .dataframe thead th {\n",
       "        text-align: right;\n",
       "    }\n",
       "</style>\n",
       "<table border=\"1\" class=\"dataframe\">\n",
       "  <thead>\n",
       "    <tr style=\"text-align: right;\">\n",
       "      <th></th>\n",
       "      <th>Model</th>\n",
       "      <th>R2 Score</th>\n",
       "      <th>Adjusted R2 Score</th>\n",
       "      <th>Cross Validated R2 Score</th>\n",
       "      <th>RMSE</th>\n",
       "    </tr>\n",
       "  </thead>\n",
       "  <tbody>\n",
       "    <tr>\n",
       "      <th>0</th>\n",
       "      <td>Random Forest with RFE</td>\n",
       "      <td>0.856206</td>\n",
       "      <td>0.84266</td>\n",
       "      <td>0.802484</td>\n",
       "      <td>3.273312</td>\n",
       "    </tr>\n",
       "  </tbody>\n",
       "</table>\n",
       "</div>"
      ],
      "text/plain": [
       "                    Model  R2 Score  Adjusted R2 Score  \\\n",
       "0  Random Forest with RFE  0.856206            0.84266   \n",
       "\n",
       "   Cross Validated R2 Score      RMSE  \n",
       "0                  0.802484  3.273312  "
      ]
     },
     "execution_count": 47,
     "metadata": {},
     "output_type": "execute_result"
    }
   ],
   "source": [
    "ndf = [Reg_Models_Evaluation_Metrics(rf_pipeline,X_train2,y_train2,X_test2,y_test2,y_pred)]\n",
    "\n",
    "rfe_score2 = pd.DataFrame(data = ndf, columns=['R2 Score','Adjusted R2 Score','Cross Validated R2 Score','RMSE'])\n",
    "rfe_score2.insert(0, 'Model', 'Random Forest with RFE')\n",
    "rfe_score2"
   ]
  },
  {
   "cell_type": "markdown",
   "id": "f7474792",
   "metadata": {},
   "source": [
    "# 7. Final Model Evaluation"
   ]
  },
  {
   "cell_type": "markdown",
   "id": "c0f2086f",
   "metadata": {},
   "source": [
    "## 7.1 Avocado dataset"
   ]
  },
  {
   "cell_type": "code",
   "execution_count": 48,
   "id": "00900fa0",
   "metadata": {},
   "outputs": [
    {
     "data": {
      "text/html": [
       "<div>\n",
       "<style scoped>\n",
       "    .dataframe tbody tr th:only-of-type {\n",
       "        vertical-align: middle;\n",
       "    }\n",
       "\n",
       "    .dataframe tbody tr th {\n",
       "        vertical-align: top;\n",
       "    }\n",
       "\n",
       "    .dataframe thead th {\n",
       "        text-align: right;\n",
       "    }\n",
       "</style>\n",
       "<table border=\"1\" class=\"dataframe\">\n",
       "  <thead>\n",
       "    <tr style=\"text-align: right;\">\n",
       "      <th></th>\n",
       "      <th>Model</th>\n",
       "      <th>R2 Score</th>\n",
       "      <th>Adjusted R2 Score</th>\n",
       "      <th>Cross Validated R2 Score</th>\n",
       "      <th>RMSE</th>\n",
       "    </tr>\n",
       "  </thead>\n",
       "  <tbody>\n",
       "    <tr>\n",
       "      <th>0</th>\n",
       "      <td>Random Forest with RFE</td>\n",
       "      <td>0.802443</td>\n",
       "      <td>0.799885</td>\n",
       "      <td>0.889693</td>\n",
       "      <td>0.179591</td>\n",
       "    </tr>\n",
       "    <tr>\n",
       "      <th>1</th>\n",
       "      <td>XGBoost</td>\n",
       "      <td>0.795064</td>\n",
       "      <td>0.792411</td>\n",
       "      <td>0.910449</td>\n",
       "      <td>0.182914</td>\n",
       "    </tr>\n",
       "    <tr>\n",
       "      <th>2</th>\n",
       "      <td>Ridge Regression</td>\n",
       "      <td>0.598733</td>\n",
       "      <td>0.593537</td>\n",
       "      <td>0.604317</td>\n",
       "      <td>0.255950</td>\n",
       "    </tr>\n",
       "    <tr>\n",
       "      <th>3</th>\n",
       "      <td>Random Forest</td>\n",
       "      <td>0.787120</td>\n",
       "      <td>0.784363</td>\n",
       "      <td>0.876525</td>\n",
       "      <td>0.186426</td>\n",
       "    </tr>\n",
       "    <tr>\n",
       "      <th>4</th>\n",
       "      <td>Linear Regression</td>\n",
       "      <td>0.598793</td>\n",
       "      <td>0.593598</td>\n",
       "      <td>0.604282</td>\n",
       "      <td>0.255931</td>\n",
       "    </tr>\n",
       "  </tbody>\n",
       "</table>\n",
       "</div>"
      ],
      "text/plain": [
       "                    Model  R2 Score  Adjusted R2 Score  \\\n",
       "0  Random Forest with RFE  0.802443           0.799885   \n",
       "1                 XGBoost  0.795064           0.792411   \n",
       "2        Ridge Regression  0.598733           0.593537   \n",
       "3           Random Forest  0.787120           0.784363   \n",
       "4       Linear Regression  0.598793           0.593598   \n",
       "\n",
       "   Cross Validated R2 Score      RMSE  \n",
       "0                  0.889693  0.179591  \n",
       "1                  0.910449  0.182914  \n",
       "2                  0.604317  0.255950  \n",
       "3                  0.876525  0.186426  \n",
       "4                  0.604282  0.255931  "
      ]
     },
     "execution_count": 48,
     "metadata": {},
     "output_type": "execute_result"
    }
   ],
   "source": [
    "predictions = pd.concat([rfe_score, XGBR_score, rr_score, rf_score, lm_score], ignore_index=True, sort=False)\n",
    "predictions"
   ]
  },
  {
   "cell_type": "markdown",
   "id": "57a24004",
   "metadata": {},
   "source": [
    "## 7.2 Boston dataset"
   ]
  },
  {
   "cell_type": "code",
   "execution_count": 49,
   "id": "60a32a35",
   "metadata": {},
   "outputs": [
    {
     "data": {
      "text/html": [
       "<div>\n",
       "<style scoped>\n",
       "    .dataframe tbody tr th:only-of-type {\n",
       "        vertical-align: middle;\n",
       "    }\n",
       "\n",
       "    .dataframe tbody tr th {\n",
       "        vertical-align: top;\n",
       "    }\n",
       "\n",
       "    .dataframe thead th {\n",
       "        text-align: right;\n",
       "    }\n",
       "</style>\n",
       "<table border=\"1\" class=\"dataframe\">\n",
       "  <thead>\n",
       "    <tr style=\"text-align: right;\">\n",
       "      <th></th>\n",
       "      <th>Model</th>\n",
       "      <th>R2 Score</th>\n",
       "      <th>Adjusted R2 Score</th>\n",
       "      <th>Cross Validated R2 Score</th>\n",
       "      <th>RMSE</th>\n",
       "    </tr>\n",
       "  </thead>\n",
       "  <tbody>\n",
       "    <tr>\n",
       "      <th>0</th>\n",
       "      <td>Random Forest with RFE</td>\n",
       "      <td>0.856206</td>\n",
       "      <td>0.842660</td>\n",
       "      <td>0.802484</td>\n",
       "      <td>3.273312</td>\n",
       "    </tr>\n",
       "    <tr>\n",
       "      <th>1</th>\n",
       "      <td>XGBoost</td>\n",
       "      <td>0.899321</td>\n",
       "      <td>0.889837</td>\n",
       "      <td>0.846900</td>\n",
       "      <td>2.738961</td>\n",
       "    </tr>\n",
       "    <tr>\n",
       "      <th>2</th>\n",
       "      <td>Ridge Regression</td>\n",
       "      <td>0.678696</td>\n",
       "      <td>0.648428</td>\n",
       "      <td>0.689293</td>\n",
       "      <td>4.892991</td>\n",
       "    </tr>\n",
       "    <tr>\n",
       "      <th>3</th>\n",
       "      <td>Random Forest</td>\n",
       "      <td>0.838576</td>\n",
       "      <td>0.823369</td>\n",
       "      <td>0.817514</td>\n",
       "      <td>3.468169</td>\n",
       "    </tr>\n",
       "    <tr>\n",
       "      <th>4</th>\n",
       "      <td>Linear Regression</td>\n",
       "      <td>0.679168</td>\n",
       "      <td>0.648945</td>\n",
       "      <td>0.687535</td>\n",
       "      <td>4.889394</td>\n",
       "    </tr>\n",
       "  </tbody>\n",
       "</table>\n",
       "</div>"
      ],
      "text/plain": [
       "                    Model  R2 Score  Adjusted R2 Score  \\\n",
       "0  Random Forest with RFE  0.856206           0.842660   \n",
       "1                 XGBoost  0.899321           0.889837   \n",
       "2        Ridge Regression  0.678696           0.648428   \n",
       "3           Random Forest  0.838576           0.823369   \n",
       "4       Linear Regression  0.679168           0.648945   \n",
       "\n",
       "   Cross Validated R2 Score      RMSE  \n",
       "0                  0.802484  3.273312  \n",
       "1                  0.846900  2.738961  \n",
       "2                  0.689293  4.892991  \n",
       "3                  0.817514  3.468169  \n",
       "4                  0.687535  4.889394  "
      ]
     },
     "execution_count": 49,
     "metadata": {},
     "output_type": "execute_result"
    }
   ],
   "source": [
    "predictions2 = pd.concat([rfe_score2, XGBR_score2, rr_score2, rf_score2, lm_score2], ignore_index=True, sort=False)\n",
    "predictions2"
   ]
  },
  {
   "cell_type": "markdown",
   "id": "b709b9ef",
   "metadata": {},
   "source": [
    "## 7.3 Visualizing Model Performance"
   ]
  },
  {
   "cell_type": "code",
   "execution_count": 58,
   "id": "3820140b",
   "metadata": {},
   "outputs": [
    {
     "data": {
      "image/png": "[encoded data removed]",
      "text/plain": [
       "<Figure size 1296x432 with 1 Axes>"
      ]
     },
     "metadata": {
      "needs_background": "dark"
     },
     "output_type": "display_data"
    }
   ],
   "source": [
    "f, axe = plt.subplots(1,1, figsize=(18,6))\n",
    "\n",
    "predictions.sort_values(by=['Cross Validated R2 Score'], ascending=False, inplace=True)\n",
    "\n",
    "sns.barplot(x='Cross Validated R2 Score', y='Model', data = predictions, ax = axe)\n",
    "axe.set_xlabel('Cross Validated R2 Score', size=16)\n",
    "axe.set_ylabel('Model')\n",
    "axe.set_xlim(0,1.0)\n",
    "\n",
    "axe.set(title='Model Performance for Avocado dataset')\n",
    "\n",
    "plt.show()"
   ]
  },
  {
   "cell_type": "code",
   "execution_count": 59,
   "id": "a2817040",
   "metadata": {},
   "outputs": [
    {
     "data": {
      "image/png": "[encoded data removed]",
      "text/plain": [
       "<Figure size 1296x432 with 1 Axes>"
      ]
     },
     "metadata": {
      "needs_background": "dark"
     },
     "output_type": "display_data"
    }
   ],
   "source": [
    "f, axe = plt.subplots(1,1, figsize=(18,6))\n",
    "\n",
    "predictions2.sort_values(by=['Cross Validated R2 Score'], ascending=False, inplace=True)\n",
    "\n",
    "sns.barplot(x='Cross Validated R2 Score', y='Model', data = predictions2, ax = axe)\n",
    "axe.set_xlabel('Cross Validated R2 Score', size=16)\n",
    "axe.set_ylabel('Model')\n",
    "axe.set_xlim(0,1.0)\n",
    "\n",
    "axe.set(title='Model Performance for Boston dataset')\n",
    "plt.show()"
   ]
  },
  {
   "cell_type": "markdown",
   "id": "734f667e",
   "metadata": {},
   "source": [
    "# 8. Bonus: hyperparameter Tuning Using GridSearchCV"
   ]
  },
  {
   "cell_type": "markdown",
   "id": "31e6aa2d",
   "metadata": {},
   "source": [
    "Hyperparameter tuning is the process of tuning the parameters present as the tuples while we build machine learning models. These parameters are defined by us. Machine learning algorithms never learn these parameters. These can be tuned in different step.\n",
    "\n",
    "GridSearchCV is a technique for finding the optimal hyperparameter values from a given set of parameters in a grid. It's essentially a cross-validation technique. The model as well as the parameters must be entered. After extracting the best parameter values, predictions are made.\n",
    "\n",
    "The “best” parameters that GridSearchCV identifies are technically the best that could be produced, but only by the parameters that you included in your parameter grid."
   ]
  },
  {
   "cell_type": "markdown",
   "id": "1bc56ec6",
   "metadata": {},
   "source": [
    "## 8.1 Tuned Ridge Regression"
   ]
  },
  {
   "cell_type": "code",
   "execution_count": 52,
   "id": "984aeabe",
   "metadata": {},
   "outputs": [],
   "source": [
    "from sklearn.preprocessing import PolynomialFeatures\n",
    "\n",
    "# Polynomial features are those features created by raising existing features to an exponent. \n",
    "# For example, if a dataset had one input feature X, \n",
    "# then a polynomial feature would be the addition of a new feature (column) where values were calculated by squaring the values in X, e.g. X^2.\n",
    "\n",
    "steps = [\n",
    "    ('poly', PolynomialFeatures(degree=2)),\n",
    "    ('model', Ridge(alpha=3.8, fit_intercept=True))\n",
    "]\n",
    "\n",
    "ridge_pipe = Pipeline(steps)\n",
    "ridge_pipe.fit(X_train, y_train)\n",
    "\n",
    "# Model making a prediction on test data\n",
    "y_pred = ridge_pipe.predict(X_test)"
   ]
  },
  {
   "cell_type": "code",
   "execution_count": 53,
   "id": "838395eb",
   "metadata": {},
   "outputs": [],
   "source": [
    "from sklearn.model_selection import GridSearchCV\n",
    "\n",
    "alpha_params = [{'model__alpha': list(range(1, 15))}]\n",
    "\n",
    "clf = GridSearchCV(ridge_pipe, alpha_params, cv = 10)"
   ]
  },
  {
   "cell_type": "markdown",
   "id": "6d74a13c",
   "metadata": {},
   "source": [
    "### Tuned Ridge Regression performance for Avocado dataset"
   ]
  },
  {
   "cell_type": "code",
   "execution_count": 54,
   "id": "ffd4dccc",
   "metadata": {},
   "outputs": [
    {
     "name": "stdout",
     "output_type": "stream",
     "text": [
      "{'model__alpha': 1}\n"
     ]
    }
   ],
   "source": [
    "# Fit and tune model\n",
    "clf.fit(X_train, y_train)\n",
    "# Model making a prediction on test data\n",
    "y_pred = ridge_pipe.predict(X_test)\n",
    "# The combination of hyperparameters along with values that give the best performance of our estimate specified\n",
    "print(clf.best_params_)"
   ]
  },
  {
   "cell_type": "code",
   "execution_count": 55,
   "id": "b865b92b",
   "metadata": {},
   "outputs": [
    {
     "data": {
      "text/html": [
       "<div>\n",
       "<style scoped>\n",
       "    .dataframe tbody tr th:only-of-type {\n",
       "        vertical-align: middle;\n",
       "    }\n",
       "\n",
       "    .dataframe tbody tr th {\n",
       "        vertical-align: top;\n",
       "    }\n",
       "\n",
       "    .dataframe thead th {\n",
       "        text-align: right;\n",
       "    }\n",
       "</style>\n",
       "<table border=\"1\" class=\"dataframe\">\n",
       "  <thead>\n",
       "    <tr style=\"text-align: right;\">\n",
       "      <th></th>\n",
       "      <th>Model</th>\n",
       "      <th>R2 Score</th>\n",
       "      <th>Adjusted R2 Score</th>\n",
       "      <th>Cross Validated R2 Score</th>\n",
       "      <th>RMSE</th>\n",
       "    </tr>\n",
       "  </thead>\n",
       "  <tbody>\n",
       "    <tr>\n",
       "      <th>0</th>\n",
       "      <td>Tuned Ridge Regression</td>\n",
       "      <td>0.736622</td>\n",
       "      <td>0.733212</td>\n",
       "      <td>0.739008</td>\n",
       "      <td>0.210438</td>\n",
       "    </tr>\n",
       "  </tbody>\n",
       "</table>\n",
       "</div>"
      ],
      "text/plain": [
       "                    Model  R2 Score  Adjusted R2 Score  \\\n",
       "0  Tuned Ridge Regression  0.736622           0.733212   \n",
       "\n",
       "   Cross Validated R2 Score      RMSE  \n",
       "0                  0.739008  0.210438  "
      ]
     },
     "execution_count": 55,
     "metadata": {},
     "output_type": "execute_result"
    }
   ],
   "source": [
    "ndf = [Reg_Models_Evaluation_Metrics(clf,X_train,y_train,X_test,y_test,y_pred)]\n",
    "\n",
    "clf_score = pd.DataFrame(data = ndf, columns=['R2 Score','Adjusted R2 Score','Cross Validated R2 Score','RMSE'])\n",
    "clf_score.insert(0, 'Model', 'Tuned Ridge Regression')\n",
    "clf_score"
   ]
  },
  {
   "cell_type": "markdown",
   "id": "58f9a2aa",
   "metadata": {},
   "source": [
    "### Tuned Ridge Regression performance for Boston dataset"
   ]
  },
  {
   "cell_type": "code",
   "execution_count": 61,
   "id": "c56ae121",
   "metadata": {},
   "outputs": [
    {
     "name": "stdout",
     "output_type": "stream",
     "text": [
      "{'model__alpha': 12}\n"
     ]
    }
   ],
   "source": [
    "steps = [\n",
    "    ('poly', PolynomialFeatures(degree=2)),\n",
    "    ('model', Ridge(alpha=3.8, fit_intercept=True))\n",
    "]\n",
    "\n",
    "ridge_pipe = Pipeline(steps)\n",
    "ridge_pipe.fit(X_train2, y_train2)\n",
    "\n",
    "# Model making a prediction on test data\n",
    "y_pred = ridge_pipe.predict(X_test2)\n",
    "\n",
    "alpha_params = [{'model__alpha': list(range(1, 15))}]\n",
    "\n",
    "clf = GridSearchCV(ridge_pipe, alpha_params, cv = 10)\n",
    "# Fit and tune model\n",
    "clf.fit(X_train2, y_train2)\n",
    "# Model making a prediction on test data\n",
    "y_pred = ridge_pipe.predict(X_test2)\n",
    "# The combination of hyperparameters along with values that give the best performance of our estimate specified\n",
    "print(clf.best_params_)"
   ]
  },
  {
   "cell_type": "code",
   "execution_count": 62,
   "id": "50a257cd",
   "metadata": {},
   "outputs": [
    {
     "data": {
      "text/html": [
       "<div>\n",
       "<style scoped>\n",
       "    .dataframe tbody tr th:only-of-type {\n",
       "        vertical-align: middle;\n",
       "    }\n",
       "\n",
       "    .dataframe tbody tr th {\n",
       "        vertical-align: top;\n",
       "    }\n",
       "\n",
       "    .dataframe thead th {\n",
       "        text-align: right;\n",
       "    }\n",
       "</style>\n",
       "<table border=\"1\" class=\"dataframe\">\n",
       "  <thead>\n",
       "    <tr style=\"text-align: right;\">\n",
       "      <th></th>\n",
       "      <th>Model</th>\n",
       "      <th>R2 Score</th>\n",
       "      <th>Adjusted R2 Score</th>\n",
       "      <th>Cross Validated R2 Score</th>\n",
       "      <th>RMSE</th>\n",
       "    </tr>\n",
       "  </thead>\n",
       "  <tbody>\n",
       "    <tr>\n",
       "      <th>0</th>\n",
       "      <td>Tuned Ridge Regression</td>\n",
       "      <td>0.793267</td>\n",
       "      <td>0.773792</td>\n",
       "      <td>0.844628</td>\n",
       "      <td>3.965999</td>\n",
       "    </tr>\n",
       "  </tbody>\n",
       "</table>\n",
       "</div>"
      ],
      "text/plain": [
       "                    Model  R2 Score  Adjusted R2 Score  \\\n",
       "0  Tuned Ridge Regression  0.793267           0.773792   \n",
       "\n",
       "   Cross Validated R2 Score      RMSE  \n",
       "0                  0.844628  3.965999  "
      ]
     },
     "execution_count": 62,
     "metadata": {},
     "output_type": "execute_result"
    }
   ],
   "source": [
    "ndf = [Reg_Models_Evaluation_Metrics(clf,X_train2,y_train2,X_test2,y_test2,y_pred)]\n",
    "\n",
    "clf_score2 = pd.DataFrame(data = ndf, columns=['R2 Score','Adjusted R2 Score','Cross Validated R2 Score','RMSE'])\n",
    "clf_score2.insert(0, 'Model', 'Tuned Ridge Regression')\n",
    "clf_score2"
   ]
  },
  {
   "cell_type": "markdown",
   "id": "9c982c03",
   "metadata": {},
   "source": [
    "# 9. Final performance comparison"
   ]
  },
  {
   "cell_type": "markdown",
   "id": "13e0fc0f",
   "metadata": {},
   "source": [
    "## 9.1 Avocado data set"
   ]
  },
  {
   "cell_type": "code",
   "execution_count": 63,
   "id": "88100a58",
   "metadata": {},
   "outputs": [
    {
     "data": {
      "text/html": [
       "<div>\n",
       "<style scoped>\n",
       "    .dataframe tbody tr th:only-of-type {\n",
       "        vertical-align: middle;\n",
       "    }\n",
       "\n",
       "    .dataframe tbody tr th {\n",
       "        vertical-align: top;\n",
       "    }\n",
       "\n",
       "    .dataframe thead th {\n",
       "        text-align: right;\n",
       "    }\n",
       "</style>\n",
       "<table border=\"1\" class=\"dataframe\">\n",
       "  <thead>\n",
       "    <tr style=\"text-align: right;\">\n",
       "      <th></th>\n",
       "      <th>Model</th>\n",
       "      <th>R2 Score</th>\n",
       "      <th>Adjusted R2 Score</th>\n",
       "      <th>Cross Validated R2 Score</th>\n",
       "      <th>RMSE</th>\n",
       "    </tr>\n",
       "  </thead>\n",
       "  <tbody>\n",
       "    <tr>\n",
       "      <th>0</th>\n",
       "      <td>Tuned Ridge Regression</td>\n",
       "      <td>0.736622</td>\n",
       "      <td>0.733212</td>\n",
       "      <td>0.739008</td>\n",
       "      <td>0.210438</td>\n",
       "    </tr>\n",
       "    <tr>\n",
       "      <th>1</th>\n",
       "      <td>XGBoost</td>\n",
       "      <td>0.795064</td>\n",
       "      <td>0.792411</td>\n",
       "      <td>0.910449</td>\n",
       "      <td>0.182914</td>\n",
       "    </tr>\n",
       "    <tr>\n",
       "      <th>2</th>\n",
       "      <td>Random Forest with RFE</td>\n",
       "      <td>0.802443</td>\n",
       "      <td>0.799885</td>\n",
       "      <td>0.889693</td>\n",
       "      <td>0.179591</td>\n",
       "    </tr>\n",
       "    <tr>\n",
       "      <th>3</th>\n",
       "      <td>Random Forest</td>\n",
       "      <td>0.787120</td>\n",
       "      <td>0.784363</td>\n",
       "      <td>0.876525</td>\n",
       "      <td>0.186426</td>\n",
       "    </tr>\n",
       "    <tr>\n",
       "      <th>4</th>\n",
       "      <td>Ridge Regression</td>\n",
       "      <td>0.598733</td>\n",
       "      <td>0.593537</td>\n",
       "      <td>0.604317</td>\n",
       "      <td>0.255950</td>\n",
       "    </tr>\n",
       "    <tr>\n",
       "      <th>5</th>\n",
       "      <td>Linear Regression</td>\n",
       "      <td>0.598793</td>\n",
       "      <td>0.593598</td>\n",
       "      <td>0.604282</td>\n",
       "      <td>0.255931</td>\n",
       "    </tr>\n",
       "  </tbody>\n",
       "</table>\n",
       "</div>"
      ],
      "text/plain": [
       "                    Model  R2 Score  Adjusted R2 Score  \\\n",
       "0  Tuned Ridge Regression  0.736622           0.733212   \n",
       "1                 XGBoost  0.795064           0.792411   \n",
       "2  Random Forest with RFE  0.802443           0.799885   \n",
       "3           Random Forest  0.787120           0.784363   \n",
       "4        Ridge Regression  0.598733           0.593537   \n",
       "5       Linear Regression  0.598793           0.593598   \n",
       "\n",
       "   Cross Validated R2 Score      RMSE  \n",
       "0                  0.739008  0.210438  \n",
       "1                  0.910449  0.182914  \n",
       "2                  0.889693  0.179591  \n",
       "3                  0.876525  0.186426  \n",
       "4                  0.604317  0.255950  \n",
       "5                  0.604282  0.255931  "
      ]
     },
     "execution_count": 63,
     "metadata": {},
     "output_type": "execute_result"
    }
   ],
   "source": [
    "result = pd.concat([clf_score, predictions], ignore_index=True, sort=False)\n",
    "result"
   ]
  },
  {
   "cell_type": "code",
   "execution_count": 67,
   "id": "ae87af7b",
   "metadata": {},
   "outputs": [
    {
     "data": {
      "image/png": "[encoded data removed]",
      "text/plain": [
       "<Figure size 1296x432 with 1 Axes>"
      ]
     },
     "metadata": {
      "needs_background": "dark"
     },
     "output_type": "display_data"
    }
   ],
   "source": [
    "f, axe = plt.subplots(1,1, figsize=(18,6))\n",
    "\n",
    "result.sort_values(by=['Cross Validated R2 Score'], ascending=False, inplace=True)\n",
    "\n",
    "sns.barplot(x='Cross Validated R2 Score', y='Model', data = result, ax = axe)\n",
    "#axes[0].set(xlabel='Region', ylabel='Charges')\n",
    "axe.set_xlabel('Cross Validated R2 Score', size=16)\n",
    "axe.set_ylabel('Model')\n",
    "axe.set_xlim(0,1.0)\n",
    "axe.set(title='Model Performance for Avocado dataset')\n",
    "\n",
    "plt.show()"
   ]
  },
  {
   "cell_type": "markdown",
   "id": "6e73491d",
   "metadata": {},
   "source": [
    "## 9.2 Boston data set"
   ]
  },
  {
   "cell_type": "code",
   "execution_count": 65,
   "id": "914ebb29",
   "metadata": {},
   "outputs": [
    {
     "data": {
      "text/html": [
       "<div>\n",
       "<style scoped>\n",
       "    .dataframe tbody tr th:only-of-type {\n",
       "        vertical-align: middle;\n",
       "    }\n",
       "\n",
       "    .dataframe tbody tr th {\n",
       "        vertical-align: top;\n",
       "    }\n",
       "\n",
       "    .dataframe thead th {\n",
       "        text-align: right;\n",
       "    }\n",
       "</style>\n",
       "<table border=\"1\" class=\"dataframe\">\n",
       "  <thead>\n",
       "    <tr style=\"text-align: right;\">\n",
       "      <th></th>\n",
       "      <th>Model</th>\n",
       "      <th>R2 Score</th>\n",
       "      <th>Adjusted R2 Score</th>\n",
       "      <th>Cross Validated R2 Score</th>\n",
       "      <th>RMSE</th>\n",
       "    </tr>\n",
       "  </thead>\n",
       "  <tbody>\n",
       "    <tr>\n",
       "      <th>0</th>\n",
       "      <td>Tuned Ridge Regression</td>\n",
       "      <td>0.793267</td>\n",
       "      <td>0.773792</td>\n",
       "      <td>0.844628</td>\n",
       "      <td>3.965999</td>\n",
       "    </tr>\n",
       "    <tr>\n",
       "      <th>1</th>\n",
       "      <td>XGBoost</td>\n",
       "      <td>0.899321</td>\n",
       "      <td>0.889837</td>\n",
       "      <td>0.846900</td>\n",
       "      <td>2.738961</td>\n",
       "    </tr>\n",
       "    <tr>\n",
       "      <th>2</th>\n",
       "      <td>Random Forest</td>\n",
       "      <td>0.838576</td>\n",
       "      <td>0.823369</td>\n",
       "      <td>0.817514</td>\n",
       "      <td>3.468169</td>\n",
       "    </tr>\n",
       "    <tr>\n",
       "      <th>3</th>\n",
       "      <td>Random Forest with RFE</td>\n",
       "      <td>0.856206</td>\n",
       "      <td>0.842660</td>\n",
       "      <td>0.802484</td>\n",
       "      <td>3.273312</td>\n",
       "    </tr>\n",
       "    <tr>\n",
       "      <th>4</th>\n",
       "      <td>Ridge Regression</td>\n",
       "      <td>0.678696</td>\n",
       "      <td>0.648428</td>\n",
       "      <td>0.689293</td>\n",
       "      <td>4.892991</td>\n",
       "    </tr>\n",
       "    <tr>\n",
       "      <th>5</th>\n",
       "      <td>Linear Regression</td>\n",
       "      <td>0.679168</td>\n",
       "      <td>0.648945</td>\n",
       "      <td>0.687535</td>\n",
       "      <td>4.889394</td>\n",
       "    </tr>\n",
       "  </tbody>\n",
       "</table>\n",
       "</div>"
      ],
      "text/plain": [
       "                    Model  R2 Score  Adjusted R2 Score  \\\n",
       "0  Tuned Ridge Regression  0.793267           0.773792   \n",
       "1                 XGBoost  0.899321           0.889837   \n",
       "2           Random Forest  0.838576           0.823369   \n",
       "3  Random Forest with RFE  0.856206           0.842660   \n",
       "4        Ridge Regression  0.678696           0.648428   \n",
       "5       Linear Regression  0.679168           0.648945   \n",
       "\n",
       "   Cross Validated R2 Score      RMSE  \n",
       "0                  0.844628  3.965999  \n",
       "1                  0.846900  2.738961  \n",
       "2                  0.817514  3.468169  \n",
       "3                  0.802484  3.273312  \n",
       "4                  0.689293  4.892991  \n",
       "5                  0.687535  4.889394  "
      ]
     },
     "execution_count": 65,
     "metadata": {},
     "output_type": "execute_result"
    }
   ],
   "source": [
    "result = pd.concat([clf_score2, predictions2], ignore_index=True, sort=False)\n",
    "result"
   ]
  },
  {
   "cell_type": "code",
   "execution_count": 68,
   "id": "83a7c2cc",
   "metadata": {},
   "outputs": [
    {
     "data": {
      "image/png": "[encoded data removed]",
      "text/plain": [
       "<Figure size 1296x432 with 1 Axes>"
      ]
     },
     "metadata": {
      "needs_background": "dark"
     },
     "output_type": "display_data"
    }
   ],
   "source": [
    "f, axe = plt.subplots(1,1, figsize=(18,6))\n",
    "\n",
    "result.sort_values(by=['Cross Validated R2 Score'], ascending=False, inplace=True)\n",
    "\n",
    "sns.barplot(x='Cross Validated R2 Score', y='Model', data = result, ax = axe)\n",
    "#axes[0].set(xlabel='Region', ylabel='Charges')\n",
    "axe.set_xlabel('Cross Validated R2 Score', size=16)\n",
    "axe.set_ylabel('Model')\n",
    "axe.set_xlim(0,1.0)\n",
    "axe.set(title='Model Performance for Boston dataset')\n",
    "\n",
    "plt.show()"
   ]
  },
  {
   "cell_type": "markdown",
   "id": "c406979a",
   "metadata": {},
   "source": [
    "# 10. Other notebooks"
   ]
  },
  {
   "cell_type": "markdown",
   "id": "6965252e",
   "metadata": {},
   "source": [
    "Clustering methods - comprehensive study\n",
    "\n",
    "https://www.kaggle.com/code/marcinrutecki/clustering-methods-comprehensive-study\n",
    "\n",
    "Outlier detection methods!\n",
    "\n",
    "https://www.kaggle.com/code/marcinrutecki/outlier-detection-methods\n",
    "\n",
    "Multicollinearity - detection and remedies\n",
    "\n",
    "https://www.kaggle.com/code/marcinrutecki/multicollinearity-detection-and-remedies"
   ]
  },
  {
   "cell_type": "markdown",
   "id": "ed5690f4",
   "metadata": {},
   "source": [
    "# 11. Some referrals"
   ]
  },
  {
   "cell_type": "markdown",
   "id": "41395f8a",
   "metadata": {},
   "source": [
    "https://www.ncl.ac.uk/webtemplate/ask-assets/external/maths-resources/statistics/regression-and-correlation/coefficient-of-determination-r-squared.html"
   ]
  },
  {
   "cell_type": "code",
   "execution_count": null,
   "id": "15e16095",
   "metadata": {},
   "outputs": [],
   "source": []
  }
 ],
 "metadata": {
  "kernelspec": {
   "display_name": "Python 3 (ipykernel)",
   "language": "python",
   "name": "python3"
  },
  "language_info": {
   "codemirror_mode": {
    "name": "ipython",
    "version": 3
   },
   "file_extension": ".py",
   "mimetype": "text/x-python",
   "name": "python",
   "nbconvert_exporter": "python",
   "pygments_lexer": "ipython3",
   "version": "3.9.12"
  }
 },
 "nbformat": 4,
 "nbformat_minor": 5
}
